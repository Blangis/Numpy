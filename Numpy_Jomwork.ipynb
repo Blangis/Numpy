{
 "cells": [
  {
   "cell_type": "markdown",
   "metadata": {
    "id": "AnjfrYcx4MCI"
   },
   "source": [
    "# **Tarea de Numpy**\n",
    "\n",
    "Este notebook es el de los ejercicios >:)"
   ]
  },
  {
   "cell_type": "code",
   "execution_count": 1,
   "metadata": {
    "colab": {
     "base_uri": "https://localhost:8080/"
    },
    "executionInfo": {
     "elapsed": 9511,
     "status": "ok",
     "timestamp": 1746659065345,
     "user": {
      "displayName": "David Elias González García",
      "userId": "10354222974665753730"
     },
     "user_tz": 360
    },
    "id": "qxKzpmVP8Lqs",
    "outputId": "7a48480b-7b6b-4905-a165-57dd0860d3c8"
   },
   "outputs": [
    {
     "name": "stdout",
     "output_type": "stream",
     "text": [
      "[1 2 3 4 5]\n",
      "3.0\n"
     ]
    }
   ],
   "source": [
    "import numpy as np\n",
    "\n",
    "# Probando si si jala el numpy\n",
    "my_arreglow = np.array([1, 2, 3, 4, 5])\n",
    "\n",
    "print(my_arreglow)\n",
    "print(np.mean(my_arreglow))\n"
   ]
  },
  {
   "cell_type": "markdown",
   "metadata": {
    "id": "5bZxvLcH4Twv"
   },
   "source": [
    "## Ejercicios de refuerzo"
   ]
  },
  {
   "cell_type": "markdown",
   "metadata": {
    "id": "0DKnt0XJ4b0j"
   },
   "source": [
    "### **Ejercicio 1 - Crear un array de ceros:**\n",
    "Crea un array de tamaño (3, 4) lleno de ceros."
   ]
  },
  {
   "cell_type": "code",
   "execution_count": 8,
   "metadata": {
    "id": "XpBz8hQx4LD7"
   },
   "outputs": [
    {
     "name": "stdout",
     "output_type": "stream",
     "text": [
      "Array lleno de ceros:\n",
      " [[0. 0. 0. 0.]\n",
      " [0. 0. 0. 0.]\n",
      " [0. 0. 0. 0.]]\n"
     ]
    }
   ],
   "source": [
    "# Solución (:\n",
    "arr = np.zeros((3,4))\n",
    "print(\"Array lleno de ceros:\\n\", arr)\n"
   ]
  },
  {
   "cell_type": "markdown",
   "metadata": {
    "id": "3LhYSK4M91vQ"
   },
   "source": [
    "### **Ejercicio 2-  Suma de elementos:**\n",
    "   Dado el array [1, 2, 3, 4, 5], calcula la suma de todos sus elementos usando NumPy."
   ]
  },
  {
   "cell_type": "code",
   "execution_count": 12,
   "metadata": {
    "id": "l0s1XSEL98xf"
   },
   "outputs": [
    {
     "name": "stdout",
     "output_type": "stream",
     "text": [
      "Suma del array dado:  15\n"
     ]
    }
   ],
   "source": [
    "# Solucion :)\n",
    "arr = np.array([1,2,3,4,5])\n",
    "array_sum = np.sum(arr)\n",
    "\n",
    "print(\"Suma del array dado: \", array_sum)\n"
   ]
  },
  {
   "cell_type": "markdown",
   "metadata": {
    "id": "u1S6J4AI99Ae"
   },
   "source": [
    "### **Ejercicio 3 - Encontrar el máximo y mínimo:**\n",
    "Dado el array [10, 20, 30, 40, 50], encuentra el valor máximo y mínimo."
   ]
  },
  {
   "cell_type": "code",
   "execution_count": 18,
   "metadata": {
    "id": "rU0mZk0h-A0R"
   },
   "outputs": [
    {
     "name": "stdout",
     "output_type": "stream",
     "text": [
      "Valor máximo: 50 \n",
      "Valor mínimo: 10\n"
     ]
    }
   ],
   "source": [
    "array = np.array([10, 20, 30, 40, 50])\n",
    "\n",
    "# Solución:)\n",
    "max = np.max(array)\n",
    "min = np.min(array)\n",
    "print(\"Valor máximo:\", max, \"\\nValor mínimo:\", min)\n",
    "\n"
   ]
  },
  {
   "cell_type": "markdown",
   "metadata": {
    "id": "lACW-PKX-BDd"
   },
   "source": [
    "### **Ejercicio 4 - Encontrar el máximo y mínimo:**\n",
    " Dado el array [10, 20, 30, 40, 50], encuentra el valor máximo y mínimo.\n"
   ]
  },
  {
   "cell_type": "code",
   "execution_count": 19,
   "metadata": {
    "id": "-qHvH7gJ-Ede"
   },
   "outputs": [
    {
     "name": "stdout",
     "output_type": "stream",
     "text": [
      "Valor máximo: 50 \n",
      "Valor mínimo: 10\n"
     ]
    }
   ],
   "source": [
    "# Solución:)\n",
    "array = np.array([10, 20, 30, 40, 50])\n",
    "\n",
    "max = np.max(array)\n",
    "min = np.min(array)\n",
    "print(\"Valor máximo:\", max, \"\\nValor mínimo:\", min)"
   ]
  },
  {
   "cell_type": "markdown",
   "metadata": {
    "id": "ZkPxM1Wt-EmM"
   },
   "source": [
    "### **Ejercicio 5 - Generar números aleatorios:**\n",
    "  Genera un array de 5 números aleatorios entre 0 y 1."
   ]
  },
  {
   "cell_type": "code",
   "execution_count": 22,
   "metadata": {
    "id": "PBaN-yAp-Hu0"
   },
   "outputs": [
    {
     "name": "stdout",
     "output_type": "stream",
     "text": [
      "[0.53810441 0.5477021  0.46937033 0.22173551 0.12257581]\n"
     ]
    }
   ],
   "source": [
    "# Solución:)\n",
    "random_array = np.random.random(5)\n",
    "print(random_array)\n"
   ]
  },
  {
   "cell_type": "markdown",
   "metadata": {
    "id": "MEDxAgWLAE8Q"
   },
   "source": [
    "### **Ejercicio 6 - Promedio de un array:**\n",
    "Dado el array [5, 10, 15, 20, 25], calcula su promedio usando NumPy."
   ]
  },
  {
   "cell_type": "code",
   "execution_count": 25,
   "metadata": {
    "id": "HjnjecKuAOkN"
   },
   "outputs": [
    {
     "name": "stdout",
     "output_type": "stream",
     "text": [
      "[ 5 10 15 20 25]\n",
      "Promedio: 15.0\n"
     ]
    }
   ],
   "source": [
    "#Solucion:)\n",
    "arr = np.array([5,10,15,20,25])\n",
    "print(arr)\n",
    "\n",
    "prom = np.average(arr)\n",
    "print(\"Promedio:\",prom)\n"
   ]
  },
  {
   "cell_type": "markdown",
   "metadata": {
    "id": "Z93kn0htAPZb"
   },
   "source": [
    "### **Ejercicio 7 - Concatenar dos arrays**\n",
    "Dados los arrays A = [1, 2, 3] y B = [4, 5, 6], concaténalos en un solo array."
   ]
  },
  {
   "cell_type": "code",
   "execution_count": 33,
   "metadata": {
    "id": "NzldaS9RAS45"
   },
   "outputs": [
    {
     "name": "stdout",
     "output_type": "stream",
     "text": [
      "Array A:  [1 2 3]\n",
      "Array B:  [4 5 6]\n",
      "Array combinado:  [1 2 3 4 5 6]\n"
     ]
    }
   ],
   "source": [
    "#Solucion:)\n",
    "arr1 = np.array([1,2,3])\n",
    "print(\"Array A: \",arr1)\n",
    "arr2 = np.array([4,5,6])\n",
    "print(\"Array B: \",arr2)\n",
    "\n",
    "mix = np.concatenate((arr1, arr2))\n",
    "print(\"Array combinado: \",mix)"
   ]
  },
  {
   "cell_type": "markdown",
   "metadata": {
    "id": "bvTCzzFjAevg"
   },
   "source": [
    "### **Ejercicio 8 - Reshape de un Array**\n",
    "Dado el array [1, 2, 3, 4, 5, 6], cámbialo a una matriz de 2x3."
   ]
  },
  {
   "cell_type": "code",
   "execution_count": 37,
   "metadata": {
    "id": "0hfE1QUMAhB3"
   },
   "outputs": [
    {
     "name": "stdout",
     "output_type": "stream",
     "text": [
      "Array: [1 2 3 4 5 6]\n",
      "Matriz:\n",
      " [[1 2 3]\n",
      " [4 5 6]]\n"
     ]
    }
   ],
   "source": [
    "#Solución:)\n",
    "arr = np.array([1,2,3,4,5,6])\n",
    "print(\"Array:\",arr)\n",
    "\n",
    "new = np.reshape(arr, (2,3))\n",
    "print(\"Matriz:\\n\",new)"
   ]
  },
  {
   "cell_type": "markdown",
   "metadata": {
    "id": "By9zMuMyYMNA"
   },
   "source": [
    "### **Ejercicio 9 - Producto punto (dot product):**\n",
    "Dados dos arrays A = [1, 2, 3] y B = [4, 5, 6], calcula su producto punto"
   ]
  },
  {
   "cell_type": "code",
   "execution_count": 42,
   "metadata": {
    "id": "Vj-94PgAhpmk"
   },
   "outputs": [
    {
     "name": "stdout",
     "output_type": "stream",
     "text": [
      "Producto punto: 32\n"
     ]
    }
   ],
   "source": [
    "#Solución:)\n",
    "A = np.array([1,2,3])\n",
    "B = np.array([4,5,6])\n",
    "\n",
    "dot = np.dot(A,B)\n",
    "print(\"Producto punto:\",dot)"
   ]
  },
  {
   "cell_type": "markdown",
   "metadata": {
    "id": "Z0UxB4reh4LU"
   },
   "source": [
    "### **Ejercicio 10 - Reorganizar un array:**\n",
    "Dado el array [1, 2, 3, 4, 5, 6, 7, 8, 9, 10], conviértelo en una matriz (2, 5)."
   ]
  },
  {
   "cell_type": "code",
   "execution_count": 39,
   "metadata": {
    "id": "GkjKd3SLh6Sf"
   },
   "outputs": [
    {
     "name": "stdout",
     "output_type": "stream",
     "text": [
      "Array: [ 1  2  3  4  5  6  7  8  9 10]\n",
      "Matriz (2,5)\n",
      " [[ 1  2  3  4  5]\n",
      " [ 6  7  8  9 10]]\n"
     ]
    }
   ],
   "source": [
    "#Solución:)\n",
    "arr = np.array([1,2,3,4,5,6,7,8,9,10])\n",
    "print(\"Array:\",arr)\n",
    "\n",
    "change = np.reshape(arr, (2,5))\n",
    "print(\"Matriz (2,5)\\n\",change)\n"
   ]
  },
  {
   "cell_type": "markdown",
   "metadata": {
    "id": "MpTGrPV5iE1Z"
   },
   "source": [
    "### **Ejercicio extra - Encontrar el *k*-ésimo elemento más pequeño en un array**\n",
    "Dado arr = np.array([9, 3, 6, 2, 1, 7]), encuentra el 3er elemento más pequeño sin ordenar el array completo.\n",
    "\n",
    "**Pista solución 1**: Se puede hacer con un método de Numpy\n",
    "\n",
    "**Pista solución 2**: El código se hace más complicado, pero se puede resolver con ciclos iterativos."
   ]
  },
  {
   "cell_type": "code",
   "execution_count": 45,
   "metadata": {
    "id": "OYaMOW-jiLlX"
   },
   "outputs": [
    {
     "name": "stdout",
     "output_type": "stream",
     "text": [
      "3\n"
     ]
    }
   ],
   "source": [
    "#Solucion :o\n",
    "arr = np.array([9, 3, 6, 2, 1, 7])\n",
    "\n",
    "# partition mueve los k+1 menores elementos al principio del arreglo, sin importar el orden entre ellos\n",
    "k=2\n",
    "part = np.partition(arr, k)\n",
    "tercer_menor=part[k]\n",
    "\n",
    "print(tercer_menor)\n",
    "\n"
   ]
  },
  {
   "cell_type": "markdown",
   "metadata": {
    "id": "Unyrp8HOCtMh"
   },
   "source": [
    "## **Ejercicios aplicados**"
   ]
  },
  {
   "cell_type": "markdown",
   "metadata": {
    "id": "K1CPCb12GeCz"
   },
   "source": [
    "### **Ejercicio: Cálculo de ROI (Retorno de Inversión)**\n",
    "Dadas las inversiones ([1000, 1500, 2000]) y sus retornos ([1200, 1650, 1800]), calcula el ROI porcentual para cada caso.\n",
    "\n",
    "*(Fórmula: ROI = (retorno - inversión) / inversión * 100)*"
   ]
  },
  {
   "cell_type": "code",
   "execution_count": 46,
   "metadata": {
    "id": "6Eo-aN8bCwg1"
   },
   "outputs": [
    {
     "name": "stdout",
     "output_type": "stream",
     "text": [
      "ROI: [ 20.  10. -10.]\n"
     ]
    }
   ],
   "source": [
    "# Solucion del ROIROIROIROIORIORI\n",
    "inversiones = np.array([1000,1500,2000])\n",
    "retornos = np.array([1200,1650,1800])\n",
    "\n",
    "roi = ((retornos-inversiones)/inversiones)*100\n",
    "print(\"ROI:\", roi)\n"
   ]
  },
  {
   "cell_type": "markdown",
   "metadata": {
    "id": "3CfyZVv4GksC"
   },
   "source": [
    "### **Ejercicio: Normalización de Datos**\n",
    "Tienes un dataset de precios de productos (en USD): [250, 320, 150, 500, 210]. Normaliza los valores al rango [0, 1] para compararlos en una escala común.\n",
    "\n",
    "**Formulita de la normalización**: (x - min) / (max - min): Para una escala valores entre 0 y 1."
   ]
  },
  {
   "cell_type": "code",
   "execution_count": 51,
   "metadata": {
    "id": "afTic4_JGxAy"
   },
   "outputs": [
    {
     "name": "stdout",
     "output_type": "stream",
     "text": [
      "Normalizados: [0.28571429 0.48571429 0.         1.         0.17142857]\n"
     ]
    }
   ],
   "source": [
    "precios = np.array([250,320,150,500,210])\n",
    "min = np.min(precios)\n",
    "max = np.max(precios)\n",
    "\n",
    "normalizacion = (precios - min)/(max - min)\n",
    "print(\"Normalizados:\",normalizacion)"
   ]
  },
  {
   "cell_type": "markdown",
   "metadata": {
    "id": "Px7Pdn7xHBAR"
   },
   "source": [
    "### **Ejercicio: Filtrado de Datos**\n",
    "En un array de ventas diarias ([1200, 0, 750, 2400, 0, 1800]), reemplaza los ceros (días sin ventas) por el promedio de los días con ventas."
   ]
  },
  {
   "cell_type": "code",
   "execution_count": 65,
   "metadata": {
    "id": "rqwubxX-HFBX"
   },
   "outputs": [
    {
     "name": "stdout",
     "output_type": "stream",
     "text": [
      "Promedio ventas: 1537.5\n",
      "Array modificado: [1200 1537  750 2400 1537 1800]\n"
     ]
    }
   ],
   "source": [
    "ventasDiarias = np.array([1200,0,750,2400,0,1800])\n",
    "\n",
    "promedioVentas = np.average([v for v in ventasDiarias if v != 0])\n",
    "print(\"Promedio ventas:\",promedioVentas)\n",
    "\n",
    "# Recorro usando índices con range(len(...)), me permite acceder al índice\n",
    "for i in range(len(ventasDiarias)):\n",
    "    if ventasDiarias[i] == 0:\n",
    "        ventasDiarias[i] = promedioVentas\n",
    "\n",
    "print(\"Array modificado:\",ventasDiarias)"
   ]
  },
  {
   "cell_type": "markdown",
   "metadata": {
    "id": "dKK2wBEEdqzt"
   },
   "source": [
    "### **Ejercicio - Análisis de Presión Arterial**\n",
    "Tenemos un dataset de mediciones de presión arterial sistólica (mmHg) de 10 pacientes:\n",
    "[120, 135, 140, 118, 150, 130, 160, 125, 142, 128].\n",
    "\n",
    "Calculen:\n",
    "- Media y desviación estándar.\n",
    "- Identifiquen valores fuera del rango normal (90–140 mmHg)."
   ]
  },
  {
   "cell_type": "code",
   "execution_count": 69,
   "metadata": {
    "id": "RkYj4KJud0uu"
   },
   "outputs": [
    {
     "name": "stdout",
     "output_type": "stream",
     "text": [
      "Media = 134.8\n",
      "Desv estándar = 12.69488085804668\n",
      "Valor fuera del rango normal:  150\n",
      "Valor fuera del rango normal:  160\n",
      "Valor fuera del rango normal:  142\n"
     ]
    }
   ],
   "source": [
    "presiones = np.array([120,135,140,118,150,130,160,125,142,128])\n",
    "\n",
    "print(\"Media =\", np.mean(presiones))\n",
    "print(\"Desv estándar =\", np.std(presiones))\n",
    "\n",
    "for x in range(len(presiones)):\n",
    "    if presiones[x]<90 or presiones[x]>140:\n",
    "        print(\"Valor fuera del rango normal: \", presiones[x])\n"
   ]
  },
  {
   "cell_type": "markdown",
   "metadata": {
    "id": "ltzE201veNyz"
   },
   "source": [
    "### **Ejercicio - Cálculo del PIB per Cápita**\n",
    "Dados el PIB (en millones de USD) [500, 320, 700, 450] y la población (en millones) [10, 8, 12, 9] de 4 países, calculen el PIB per cápita y determinen el país con el mayor valor."
   ]
  },
  {
   "cell_type": "code",
   "execution_count": 75,
   "metadata": {
    "id": "TMl-OWMpeOcP"
   },
   "outputs": [
    {
     "name": "stdout",
     "output_type": "stream",
     "text": [
      "PIB per cápita: [50.         40.         58.33333333 50.        ]\n",
      "Valor del país con mayor pib per cápita:  58.333333333333336 mil usd per cápita\n"
     ]
    }
   ],
   "source": [
    "PIB = np.array([500,320,700,450]) # millones usd\n",
    "poblacion = np.array([10,8,12,9]) # millones\n",
    "\n",
    "pib_per_capita = PIB / poblacion\n",
    "print(\"PIB per cápita:\",pib_per_capita)\n",
    "\n",
    "mayor_pib = np.max(pib_per_capita)\n",
    "print(\"Valor del país con mayor pib per cápita: \", mayor_pib, \"mil usd per cápita\")"
   ]
  },
  {
   "cell_type": "markdown",
   "metadata": {
    "id": "7AP-dS9HgAO9"
   },
   "source": [
    "### **Ejercicio - Sistema de Drops (Probabilidades)**\n",
    "En un videojuego RPG, los enemigos al ser vencidos, pueden dropear (soltar):\n",
    "- 0 = Nada (50%).\n",
    "- 1 = Poción (30%).\n",
    "- 2 = Arma (15%).\n",
    "- 3 = Artefacto (5%).\n",
    "\n",
    "Simula 100 drops y cuenta cuántos artefactos se obtuvieron.\n",
    "\n",
    "*Ejemplo de salida*:\n",
    "\n",
    "```\n",
    "Artifactos obtenidos: 3\n",
    "```\n",
    "\n"
   ]
  },
  {
   "cell_type": "code",
   "execution_count": null,
   "metadata": {
    "id": "828OGOwUgPBV"
   },
   "outputs": [
    {
     "name": "stdout",
     "output_type": "stream",
     "text": [
      "Artefactos obtenidos: 4\n"
     ]
    }
   ],
   "source": [
    "#Posibles drops\n",
    "drops = [0,1,2,3]\n",
    "probabilidades = [0.5, 0.3, 0.15, 0.05]\n",
    "\n",
    "#Simulacion\n",
    "# np.random.choice(listaOPciones, size=N, probabilidades)\n",
    "sim = np.random.choice(drops, size=100, p=probabilidades)\n",
    "\n",
    "cantidad_artefactos = np.count_nonzero(sim == 3)\n",
    "\n",
    "print(\"Artefactos obtenidos:\", cantidad_artefactos)"
   ]
  }
 ],
 "metadata": {
  "colab": {
   "provenance": []
  },
  "kernelspec": {
   "display_name": "venv",
   "language": "python",
   "name": "python3"
  },
  "language_info": {
   "codemirror_mode": {
    "name": "ipython",
    "version": 3
   },
   "file_extension": ".py",
   "mimetype": "text/x-python",
   "name": "python",
   "nbconvert_exporter": "python",
   "pygments_lexer": "ipython3",
   "version": "3.12.3"
  }
 },
 "nbformat": 4,
 "nbformat_minor": 0
}
